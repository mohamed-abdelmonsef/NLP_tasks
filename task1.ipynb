{
  "nbformat": 4,
  "nbformat_minor": 0,
  "metadata": {
    "colab": {
      "provenance": []
    },
    "kernelspec": {
      "name": "python3",
      "display_name": "Python 3"
    },
    "language_info": {
      "name": "python"
    }
  },
  "cells": [
    {
      "cell_type": "code",
      "source": [
        "import numpy as np"
      ],
      "metadata": {
        "id": "Hu-zX8YtYeye"
      },
      "execution_count": 5,
      "outputs": []
    },
    {
      "cell_type": "code",
      "source": [
        "import gensim.downloader as api\n",
        "model = api.load(\"glove-wiki-gigaword-100\")"
      ],
      "metadata": {
        "id": "llnA4dlQTeFd"
      },
      "execution_count": 2,
      "outputs": []
    },
    {
      "cell_type": "code",
      "source": [
        "words_lst = ['trump','macron','russia']\n",
        "context_vector = np.mean([model[w] for w in words_lst], axis=0).reshape(1, -1)\n",
        "most_sim = model.most_similar(context_vector[0])\n",
        "print(most_sim)"
      ],
      "metadata": {
        "colab": {
          "base_uri": "https://localhost:8080/"
        },
        "id": "E1XxzXySVgk4",
        "outputId": "81682a11-1216-4691-a572-8549ffd338df"
      },
      "execution_count": 21,
      "outputs": [
        {
          "output_type": "stream",
          "name": "stdout",
          "text": [
            "[('russia', 0.6963457465171814), ('putin', 0.6050617694854736), ('moscow', 0.5930101275444031), ('trump', 0.5711346864700317), ('ukraine', 0.5500494241714478), ('medvedev', 0.5431283116340637), ('russian', 0.5306267142295837), ('greece', 0.5265065431594849), ('ambitions', 0.5258440971374512), ('vladimir', 0.5229143500328064)]\n"
          ]
        }
      ]
    },
    {
      "cell_type": "code",
      "source": [
        "word_vec = model['messi']\n",
        "similar_words = model.most_similar(word_vec)\n",
        "print(similar_words)"
      ],
      "metadata": {
        "colab": {
          "base_uri": "https://localhost:8080/"
        },
        "id": "wVVFveHcZhHR",
        "outputId": "30f821d3-ffb1-404f-d61f-4a7ea56da063"
      },
      "execution_count": 23,
      "outputs": [
        {
          "output_type": "stream",
          "name": "stdout",
          "text": [
            "[('messi', 1.0), ('ronaldinho', 0.8303644061088562), (\"eto'o\", 0.804193377494812), ('iniesta', 0.7608727216720581), ('saviola', 0.7573608756065369), ('ronaldo', 0.7426354289054871), ('xavi', 0.7340559363365173), ('tevez', 0.7212992906570435), ('zidane', 0.7166726589202881), ('figo', 0.7121031880378723)]\n"
          ]
        }
      ]
    },
    {
      "cell_type": "code",
      "source": [],
      "metadata": {
        "id": "xw8zs1qJafA5"
      },
      "execution_count": null,
      "outputs": []
    }
  ]
}